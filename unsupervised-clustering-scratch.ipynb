{
 "cells": [
  {
   "cell_type": "code",
   "execution_count": 40,
   "metadata": {},
   "outputs": [],
   "source": [
    "import pandas as pd\n",
    "import numpy as np\n",
    "import random\n",
    "\n",
    "def initialize_centroids(data, k):\n",
    "    \"\"\" Initialize k centroids randomly \"\"\"\n",
    "    indices = random.sample(range(len(data)), k)\n",
    "    centroids = data[indices, :]\n",
    "    return centroids\n",
    "\n",
    "def assign_clusters(data, centroids):\n",
    "    \"\"\" Assign each data point to the nearest centroid \"\"\"\n",
    "    clusters = []\n",
    "    for point in data:\n",
    "        distances = np.sqrt(((point - centroids) ** 2).sum(axis=1))\n",
    "        cluster = np.argmin(distances)\n",
    "        clusters.append(cluster)\n",
    "    return clusters\n",
    "\n",
    "def compute_centroids(data, clusters, k):\n",
    "    \"\"\" Compute the new centroids \"\"\"\n",
    "    new_centroids = []\n",
    "    for i in range(k):\n",
    "        points = data[np.where(clusters == i)]\n",
    "        centroid = points.mean(axis=0)\n",
    "        new_centroids.append(centroid)\n",
    "    return np.array(new_centroids)\n",
    "\n",
    "def k_means(data, k, max_iters=1000):\n",
    "    \"\"\" The K-means algorithm \"\"\"\n",
    "    data = np.array(data) \n",
    "    centroids = initialize_centroids(data, k)\n",
    "    for i in range(max_iters):\n",
    "        old_centroids = centroids.copy()\n",
    "        clusters = assign_clusters(data, centroids)\n",
    "        centroids = compute_centroids(data, np.array(clusters), k)\n",
    "        if np.allclose(centroids, old_centroids):\n",
    "            break\n",
    "    return np.array(clusters), centroids\n",
    "\n",
    "\n"
   ]
  },
  {
   "cell_type": "code",
   "execution_count": 41,
   "metadata": {},
   "outputs": [],
   "source": [
    "# Load the file\n",
    "df = pd.read_pickle('data/pkl_vector_10k_reviews.pkl')\n",
    "\n",
    "# Extract only the feature vectors\n",
    "features = df.vector.to_list()"
   ]
  },
  {
   "cell_type": "code",
   "execution_count": 42,
   "metadata": {},
   "outputs": [],
   "source": [
    "actual_labels = df.good_rating"
   ]
  },
  {
   "cell_type": "code",
   "execution_count": 43,
   "metadata": {},
   "outputs": [],
   "source": [
    "# Apply K-means\n",
    "k = 2  # number of clusters\n",
    "clusters, centroids = k_means(features, k)\n"
   ]
  },
  {
   "cell_type": "code",
   "execution_count": 44,
   "metadata": {},
   "outputs": [
    {
     "name": "stdout",
     "output_type": "stream",
     "text": [
      "    Actual Label  Cluster\n",
      "1              1        0\n",
      "2              1        0\n",
      "9              1        0\n",
      "10             1        0\n",
      "11             1        0\n",
      "0.5642\n"
     ]
    }
   ],
   "source": [
    "comparison = pd.DataFrame({'Actual Label': actual_labels, 'Cluster': clusters})\n",
    "\n",
    "misclassified = comparison[comparison['Actual Label'] != comparison['Cluster']]\n",
    "print((len(df) - len(misclassified)) / len(df))\n"
   ]
  },
  {
   "cell_type": "code",
   "execution_count": 45,
   "metadata": {},
   "outputs": [],
   "source": [
    "from sklearn.metrics import silhouette_samples, silhouette_score\n",
    "\n",
    "# Extract only the feature vectors\n",
    "array_features = np.array(features)\n",
    "array_labels = np.array(actual_labels)\n",
    "\n",
    "silhouette_avg = silhouette_score(array_features, array_labels)\n",
    "sample_silhouette_values = silhouette_samples(array_features, array_labels)"
   ]
  },
  {
   "cell_type": "code",
   "execution_count": 46,
   "metadata": {},
   "outputs": [
    {
     "name": "stdout",
     "output_type": "stream",
     "text": [
      "0.05847046242104021\n",
      "[0.07188645 0.06470027 0.06196227 ... 0.05032201 0.05075456 0.05009708]\n"
     ]
    }
   ],
   "source": [
    "print(silhouette_avg)\n",
    "print(sample_silhouette_values)"
   ]
  }
 ],
 "metadata": {
  "kernelspec": {
   "display_name": "p-recs10",
   "language": "python",
   "name": "python3"
  },
  "language_info": {
   "codemirror_mode": {
    "name": "ipython",
    "version": 3
   },
   "file_extension": ".py",
   "mimetype": "text/x-python",
   "name": "python",
   "nbconvert_exporter": "python",
   "pygments_lexer": "ipython3",
   "version": "3.12.0"
  },
  "orig_nbformat": 4,
  "vscode": {
   "interpreter": {
    "hash": "1a9c17e3f5d3872bd7824114ed04ef9dd0b816fdf044536a2e6fbe16cdcabeaa"
   }
  }
 },
 "nbformat": 4,
 "nbformat_minor": 2
}
