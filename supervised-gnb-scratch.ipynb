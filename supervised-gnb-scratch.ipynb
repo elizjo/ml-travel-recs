{
 "cells": [
  {
   "cell_type": "code",
   "execution_count": 2,
   "metadata": {},
   "outputs": [
    {
     "name": "stdout",
     "output_type": "stream",
     "text": [
      "Accuracy: 0.982\n",
      "\n",
      "Classification Report:\n",
      "               precision    recall  f1-score   support\n",
      "\n",
      "           0       0.73      0.98      0.84        96\n",
      "           1       1.00      0.98      0.99      1904\n",
      "\n",
      "    accuracy                           0.98      2000\n",
      "   macro avg       0.87      0.98      0.91      2000\n",
      "weighted avg       0.99      0.98      0.98      2000\n",
      "\n"
     ]
    }
   ],
   "source": [
    "import pandas as pd\n",
    "import numpy as np\n",
    "from sklearn.metrics import classification_report\n",
    "\n",
    "class GaussianNaiveBayes:\n",
    "    #calculate mean, variance, and class prior probabilities\n",
    "    def fit(self, X, y):\n",
    "            self.classes = np.unique(y)\n",
    "            self.parameters = {}\n",
    "            for c in self.classes:\n",
    "                X_c = X[y == c]\n",
    "                self.parameters[c] = {\n",
    "                    'mean': X_c.mean(axis=0),\n",
    "                    'var': X_c.var(axis=0),\n",
    "                    'prior': X_c.shape[0] / X.shape[0]\n",
    "                }\n",
    "\n",
    "    #compute the Gaussian likelihood\n",
    "    def _calculate_likelihood(self, class_id, x):\n",
    "        mean = self.parameters[class_id]['mean']\n",
    "        var = self.parameters[class_id]['var']\n",
    "        numerator = np.exp(- (x - mean) ** 2 / (2 * var))\n",
    "        denominator = np.sqrt(2 * np.pi * var)\n",
    "        return numerator / denominator\n",
    "\n",
    "    #calculate the posterior probability for each class\n",
    "    def _calculate_posterior(self, x):\n",
    "        posteriors = []\n",
    "        for c in self.classes:\n",
    "            prior = np.log(self.parameters[c]['prior'])\n",
    "            likelihood = np.sum(np.log(self._calculate_likelihood(c, x)))\n",
    "            posterior = prior + likelihood\n",
    "            posteriors.append(posterior)\n",
    "        return self.classes[np.argmax(posteriors)]\n",
    "\n",
    "    #predict the class for each instance\n",
    "    def predict(self, X):\n",
    "        return [self._calculate_posterior(x) for x in X]\n",
    "\n",
    "# Load the dataset\n",
    "df = pd.read_pickle('data/pkl_vector_10k_reviews.pkl')\n",
    "\n",
    "# Extract only the feature vectors\n",
    "features = df.vector.to_list()\n",
    "vector_df = pd.DataFrame(features)\n",
    "\n",
    "# Prepare features and labels\n",
    "X = vector_df.values  # Features\n",
    "y = df.good_rating.values  # Labels\n",
    "\n",
    "# Split the data into training and testing sets\n",
    "from sklearn.model_selection import train_test_split\n",
    "X_train, X_test, y_train, y_test = train_test_split(X, y, test_size=0.2, random_state=42)\n",
    "\n",
    "# Create and train the classifier\n",
    "gnb = GaussianNaiveBayes()\n",
    "gnb.fit(X_train, y_train)\n",
    "\n",
    "# Make predictions and evaluate\n",
    "y_pred = gnb.predict(X_test)\n",
    "accuracy = np.mean(y_pred == y_test)\n",
    "print(f\"Accuracy: {accuracy}\")\n",
    "print(\"\\nClassification Report:\\n\", classification_report(y_test, y_pred))"
   ]
  }
 ],
 "metadata": {
  "kernelspec": {
   "display_name": "final_project",
   "language": "python",
   "name": "python3"
  },
  "language_info": {
   "codemirror_mode": {
    "name": "ipython",
    "version": 3
   },
   "file_extension": ".py",
   "mimetype": "text/x-python",
   "name": "python",
   "nbconvert_exporter": "python",
   "pygments_lexer": "ipython3",
   "version": "3.12.0"
  }
 },
 "nbformat": 4,
 "nbformat_minor": 2
}
