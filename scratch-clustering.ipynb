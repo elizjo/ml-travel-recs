{
 "cells": [
  {
   "cell_type": "code",
   "execution_count": 4,
   "metadata": {},
   "outputs": [],
   "source": [
    "import pandas as pd\n",
    "import numpy as np\n",
    "import random\n",
    "\n",
    "def initialize_centroids(data, k):\n",
    "    \"\"\" Initialize k centroids randomly \"\"\"\n",
    "    indices = random.sample(range(len(data)), k)\n",
    "    centroids = data[indices]\n",
    "    return centroids\n",
    "\n",
    "def assign_clusters(data, centroids):\n",
    "    \"\"\" Assign each data point to the nearest centroid \"\"\"\n",
    "    clusters = []\n",
    "    for point in data:\n",
    "        distances = np.sqrt(((point - centroids) ** 2).sum(axis=1))\n",
    "        cluster = np.argmin(distances)\n",
    "        clusters.append(cluster)\n",
    "    return clusters\n",
    "\n",
    "def compute_centroids(data, clusters, k):\n",
    "    \"\"\" Compute the new centroids \"\"\"\n",
    "    new_centroids = []\n",
    "    for i in range(k):\n",
    "        points = data[np.where(clusters == i)]\n",
    "        centroid = points.mean(axis=0)\n",
    "        new_centroids.append(centroid)\n",
    "    return np.array(new_centroids)\n",
    "\n",
    "def k_means(data, k, max_iters=100):\n",
    "    \"\"\" The K-means algorithm \"\"\"\n",
    "    centroids = initialize_centroids(data, k)\n",
    "    for i in range(max_iters):\n",
    "        old_centroids = centroids\n",
    "        clusters = assign_clusters(data, centroids)\n",
    "        centroids = compute_centroids(data, np.array(clusters), k)\n",
    "        if np.all(centroids == old_centroids):\n",
    "            break\n",
    "    return np.array(clusters), centroids\n"
   ]
  },
  {
   "cell_type": "code",
   "execution_count": 19,
   "metadata": {},
   "outputs": [],
   "source": [
    "# Load the CSV file\n",
    "# Replace 'your_file.csv' with the path to your CSV file\n",
    "df = pd.read_pickle('data/pkl_vector_10k_reviews.pkl')\n",
    "\n",
    "# Extract only the feature vectors\n",
    "features = df.vector.to_list()"
   ]
  },
  {
   "cell_type": "code",
   "execution_count": 15,
   "metadata": {},
   "outputs": [],
   "source": [
    "actual_labels = df.good_rating"
   ]
  },
  {
   "cell_type": "code",
   "execution_count": 24,
   "metadata": {},
   "outputs": [],
   "source": [
    "# Apply K-means\n",
    "k = 2  # number of clusters\n",
    "clusters, centroids = k_means(features, k)\n",
    "\n",
    "# Debugging prints\n",
    "print(\"Clusters array:\", clusters)\n",
    "print(\"Centroids:\\n\", centroids)\n"
   ]
  },
  {
   "cell_type": "code",
   "execution_count": 21,
   "metadata": {},
   "outputs": [
    {
     "ename": "NameError",
     "evalue": "name 'clusters' is not defined",
     "output_type": "error",
     "traceback": [
      "\u001b[0;31m---------------------------------------------------------------------------\u001b[0m",
      "\u001b[0;31mNameError\u001b[0m                                 Traceback (most recent call last)",
      "Cell \u001b[0;32mIn[21], line 1\u001b[0m\n\u001b[0;32m----> 1\u001b[0m comparison \u001b[39m=\u001b[39m pd\u001b[39m.\u001b[39mDataFrame({\u001b[39m'\u001b[39m\u001b[39mActual Label\u001b[39m\u001b[39m'\u001b[39m: actual_labels, \u001b[39m'\u001b[39m\u001b[39mCluster\u001b[39m\u001b[39m'\u001b[39m: clusters})\n",
      "\u001b[0;31mNameError\u001b[0m: name 'clusters' is not defined"
     ]
    }
   ],
   "source": [
    "comparison = pd.DataFrame({'Actual Label': actual_labels, 'Cluster': clusters})"
   ]
  },
  {
   "cell_type": "code",
   "execution_count": 9,
   "metadata": {},
   "outputs": [
    {
     "ename": "NameError",
     "evalue": "name 'comparison' is not defined",
     "output_type": "error",
     "traceback": [
      "\u001b[0;31m---------------------------------------------------------------------------\u001b[0m",
      "\u001b[0;31mNameError\u001b[0m                                 Traceback (most recent call last)",
      "Cell \u001b[0;32mIn[9], line 1\u001b[0m\n\u001b[0;32m----> 1\u001b[0m \u001b[39mprint\u001b[39m(comparison\u001b[39m.\u001b[39mhead())\n",
      "\u001b[0;31mNameError\u001b[0m: name 'comparison' is not defined"
     ]
    }
   ],
   "source": [
    "print(comparison.head())"
   ]
  }
 ],
 "metadata": {
  "kernelspec": {
   "display_name": "p-recs10",
   "language": "python",
   "name": "python3"
  },
  "language_info": {
   "codemirror_mode": {
    "name": "ipython",
    "version": 3
   },
   "file_extension": ".py",
   "mimetype": "text/x-python",
   "name": "python",
   "nbconvert_exporter": "python",
   "pygments_lexer": "ipython3",
   "version": "3.10.10"
  },
  "orig_nbformat": 4,
  "vscode": {
   "interpreter": {
    "hash": "1a9c17e3f5d3872bd7824114ed04ef9dd0b816fdf044536a2e6fbe16cdcabeaa"
   }
  }
 },
 "nbformat": 4,
 "nbformat_minor": 2
}
