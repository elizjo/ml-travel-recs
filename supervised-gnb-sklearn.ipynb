{
 "cells": [
  {
   "cell_type": "code",
   "execution_count": 1,
   "metadata": {},
   "outputs": [
    {
     "name": "stdout",
     "output_type": "stream",
     "text": [
      "Accuracy: 0.982\n",
      "\n",
      "Classification Report:\n",
      "               precision    recall  f1-score   support\n",
      "\n",
      "           0       0.73      0.98      0.84        96\n",
      "           1       1.00      0.98      0.99      1904\n",
      "\n",
      "    accuracy                           0.98      2000\n",
      "   macro avg       0.87      0.98      0.91      2000\n",
      "weighted avg       0.99      0.98      0.98      2000\n",
      "\n"
     ]
    }
   ],
   "source": [
    "import pandas as pd\n",
    "from sklearn.model_selection import train_test_split\n",
    "from sklearn.naive_bayes import GaussianNB\n",
    "from sklearn.metrics import accuracy_score, classification_report\n",
    "\n",
    "# Load the dataset\n",
    "df = pd.read_pickle('data/pkl_vector_10k_reviews.pkl')\n",
    "\n",
    "# Extract only the feature vectors\n",
    "features = df.vector.to_list()\n",
    "vector_df = pd.DataFrame(features)\n",
    "\n",
    "# Prepare features and labels\n",
    "X = vector_df  # Features\n",
    "y = df.good_rating  # Labels\n",
    "\n",
    "# Split the data into training and testing sets\n",
    "X_train, X_test, y_train, y_test = train_test_split(X, y, test_size=0.2, random_state=42)\n",
    "\n",
    "# Initialize the Gaussian Naive Bayes classifier\n",
    "gnb = GaussianNB()\n",
    "\n",
    "# Train the classifier\n",
    "gnb.fit(X_train, y_train)\n",
    "\n",
    "# Make predictions on the testing set\n",
    "y_pred = gnb.predict(X_test)\n",
    "\n",
    "# Evaluate the classifier\n",
    "accuracy = accuracy_score(y_test, y_pred)\n",
    "print(f\"Accuracy: {accuracy}\")\n",
    "print(\"\\nClassification Report:\\n\", classification_report(y_test, y_pred))\n"
   ]
  },
  {
   "cell_type": "code",
   "execution_count": 2,
   "metadata": {},
   "outputs": [
    {
     "name": "stdout",
     "output_type": "stream",
     "text": [
      "Avg Accuracy: 0.9819999999999997\n",
      "\n",
      "Avg f1-score for cluster 0:\n",
      " {0.8392857142857139}\n",
      "\n",
      "Avg f1-score for cluster 1:\n",
      " {0.9904661016949149}\n"
     ]
    }
   ],
   "source": [
    "f1_1_score = 0\n",
    "f1_0_score = 0\n",
    "iter_accuracy = 0\n",
    "\n",
    "num_trials = 20\n",
    "\n",
    "for test_iter in range(num_trials): \n",
    "\n",
    "    X_train, X_test, y_train, y_test = train_test_split(X, y, test_size=0.2, random_state=42)\n",
    "\n",
    "    gnb = GaussianNB()\n",
    "\n",
    "    gnb.fit(X_train, y_train)\n",
    "\n",
    "    y_pred = gnb.predict(X_test)\n",
    "    iter_accuracy += accuracy_score(y_test, y_pred)\n",
    "\n",
    "    result_dict = classification_report(y_test, y_pred, output_dict=True)\n",
    "    f1_1_score += result_dict['1']['f1-score']\n",
    "    f1_0_score += result_dict['0']['f1-score']\n",
    "\n",
    "# Make predictions and evaluate\n",
    "print(f\"Avg Accuracy: {iter_accuracy/num_trials}\")\n",
    "print(\"\\nAvg f1-score for cluster 0:\\n\", {f1_0_score/num_trials})\n",
    "print(\"\\nAvg f1-score for cluster 1:\\n\", {f1_1_score/num_trials})"
   ]
  }
 ],
 "metadata": {
  "kernelspec": {
   "display_name": "p-recs10",
   "language": "python",
   "name": "python3"
  },
  "language_info": {
   "codemirror_mode": {
    "name": "ipython",
    "version": 3
   },
   "file_extension": ".py",
   "mimetype": "text/x-python",
   "name": "python",
   "nbconvert_exporter": "python",
   "pygments_lexer": "ipython3",
   "version": "3.10.10"
  },
  "orig_nbformat": 4,
  "vscode": {
   "interpreter": {
    "hash": "1a9c17e3f5d3872bd7824114ed04ef9dd0b816fdf044536a2e6fbe16cdcabeaa"
   }
  }
 },
 "nbformat": 4,
 "nbformat_minor": 2
}
