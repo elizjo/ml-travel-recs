{
 "cells": [
  {
   "cell_type": "code",
   "execution_count": 7,
   "metadata": {},
   "outputs": [],
   "source": [
    "import pandas as pd\n",
    "from sklearn.cluster import KMeans\n",
    "from sklearn.preprocessing import StandardScaler\n",
    "import numpy as np\n",
    "import ast\n",
    "\n",
    "#from sklearn.decomposition import PCA #Principal Component Analysis\n",
    "#import plotly as py\n",
    "#import plotly.graph_objs as go\n",
    "#from plotly.offline import download_plotlyjs, init_notebook_mode, plot, iplot"
   ]
  },
  {
   "cell_type": "code",
   "execution_count": 8,
   "metadata": {},
   "outputs": [],
   "source": [
    "# Load the file\n",
    "df = pd.read_pickle('data/pkl_vector_10k_reviews.pkl')"
   ]
  },
  {
   "cell_type": "code",
   "execution_count": 9,
   "metadata": {},
   "outputs": [],
   "source": [
    "data = df.vector.to_list()"
   ]
  },
  {
   "cell_type": "code",
   "execution_count": 10,
   "metadata": {},
   "outputs": [
    {
     "name": "stderr",
     "output_type": "stream",
     "text": [
      "/Users/nishiguchimaika/miniconda3/envs/final_project/lib/python3.12/site-packages/sklearn/cluster/_kmeans.py:1416: FutureWarning: The default value of `n_init` will change from 10 to 'auto' in 1.4. Set the value of `n_init` explicitly to suppress the warning\n",
      "  super()._check_params_vs_input(X, default_n_init=10)\n"
     ]
    }
   ],
   "source": [
    "# Standardize the features\n",
    "scaler = StandardScaler()\n",
    "scaled_features = scaler.fit_transform(data)\n",
    "\n",
    "# Apply K-means clustering\n",
    "kmeans = KMeans(n_clusters=2, random_state=42)\n",
    "kmeans.fit(scaled_features)\n",
    "\n",
    "# Assign clusters to each example\n",
    "clusters = kmeans.labels_"
   ]
  },
  {
   "cell_type": "code",
   "execution_count": 11,
   "metadata": {},
   "outputs": [
    {
     "name": "stdout",
     "output_type": "stream",
     "text": [
      "0.4207\n"
     ]
    }
   ],
   "source": [
    "actual_labels = df.good_rating\n",
    "comparison = pd.DataFrame({'Actual Label': actual_labels, 'Cluster': clusters})\n",
    "\n",
    "misclassified = comparison[comparison['Actual Label'] != comparison['Cluster']]\n",
    "print((len(df) - len(misclassified)) / len(df))"
   ]
  },
  {
   "cell_type": "code",
   "execution_count": 13,
   "metadata": {},
   "outputs": [],
   "source": [
    "from sklearn.metrics import silhouette_samples, silhouette_score\n",
    "\n",
    "# Extract only the feature vectors\n",
    "array_features = np.array(data)\n",
    "array_labels = np.array(actual_labels)\n",
    "\n",
    "silhouette_avg = silhouette_score(array_features, array_labels)\n",
    "sample_silhouette_values = silhouette_samples(array_features, array_labels)"
   ]
  },
  {
   "cell_type": "code",
   "execution_count": 14,
   "metadata": {},
   "outputs": [
    {
     "name": "stdout",
     "output_type": "stream",
     "text": [
      "0.05847046242104021\n",
      "[0.07188645 0.06470027 0.06196227 ... 0.05032201 0.05075456 0.05009708]\n"
     ]
    }
   ],
   "source": [
    "print(silhouette_avg)\n",
    "print(sample_silhouette_values)"
   ]
  }
 ],
 "metadata": {
  "kernelspec": {
   "display_name": "p-recs10",
   "language": "python",
   "name": "python3"
  },
  "language_info": {
   "codemirror_mode": {
    "name": "ipython",
    "version": 3
   },
   "file_extension": ".py",
   "mimetype": "text/x-python",
   "name": "python",
   "nbconvert_exporter": "python",
   "pygments_lexer": "ipython3",
   "version": "3.12.0"
  },
  "orig_nbformat": 4,
  "vscode": {
   "interpreter": {
    "hash": "1a9c17e3f5d3872bd7824114ed04ef9dd0b816fdf044536a2e6fbe16cdcabeaa"
   }
  }
 },
 "nbformat": 4,
 "nbformat_minor": 2
}
